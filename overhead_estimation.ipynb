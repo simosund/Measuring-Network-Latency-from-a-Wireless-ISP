{
 "cells": [
  {
   "cell_type": "code",
   "execution_count": 1,
   "id": "19cedb20",
   "metadata": {},
   "outputs": [],
   "source": [
    "import re\n",
    "import numpy as np\n",
    "import pandas as pd\n",
    "import matplotlib.pyplot as plt\n",
    "import matplotlib.dates as mdates\n",
    "\n",
    "import plotting_funcs as plot_func\n",
    "import util"
   ]
  },
  {
   "cell_type": "markdown",
   "id": "63297cc1",
   "metadata": {},
   "source": [
    "### Reading in data"
   ]
  },
  {
   "cell_type": "code",
   "execution_count": 2,
   "id": "a75df5c5",
   "metadata": {},
   "outputs": [],
   "source": [
    "# A full week we know the ISP was running epping\n",
    "epping_period = (\"2024-04-22T00:00-06:00\", \"2024-04-29T00:00-06:00\")\n",
    "\n",
    "# A full week we know the ISP wasn't running epping\n",
    "baseline_period = (\"2024-05-06T00:00-06:00\", \"2024-05-13T00:00-06:00\")"
   ]
  },
  {
   "cell_type": "code",
   "execution_count": 3,
   "id": "3849566a",
   "metadata": {},
   "outputs": [
    {
     "data": {
      "text/html": [
       "<div>\n",
       "<style scoped>\n",
       "    .dataframe tbody tr th:only-of-type {\n",
       "        vertical-align: middle;\n",
       "    }\n",
       "\n",
       "    .dataframe tbody tr th {\n",
       "        vertical-align: top;\n",
       "    }\n",
       "\n",
       "    .dataframe thead th {\n",
       "        text-align: right;\n",
       "    }\n",
       "</style>\n",
       "<table border=\"1\" class=\"dataframe\">\n",
       "  <thead>\n",
       "    <tr style=\"text-align: right;\">\n",
       "      <th></th>\n",
       "      <th>time</th>\n",
       "      <th>value</th>\n",
       "      <th>cpu</th>\n",
       "    </tr>\n",
       "  </thead>\n",
       "  <tbody>\n",
       "    <tr>\n",
       "      <th>0</th>\n",
       "      <td>2024-04-13 10:00:00-06:00</td>\n",
       "      <td>25.200643</td>\n",
       "      <td>CPU_0</td>\n",
       "    </tr>\n",
       "    <tr>\n",
       "      <th>1</th>\n",
       "      <td>2024-04-13 11:00:00-06:00</td>\n",
       "      <td>23.622778</td>\n",
       "      <td>CPU_0</td>\n",
       "    </tr>\n",
       "    <tr>\n",
       "      <th>2</th>\n",
       "      <td>2024-04-13 12:00:00-06:00</td>\n",
       "      <td>22.578056</td>\n",
       "      <td>CPU_0</td>\n",
       "    </tr>\n",
       "    <tr>\n",
       "      <th>3</th>\n",
       "      <td>2024-04-13 13:00:00-06:00</td>\n",
       "      <td>23.131111</td>\n",
       "      <td>CPU_0</td>\n",
       "    </tr>\n",
       "    <tr>\n",
       "      <th>4</th>\n",
       "      <td>2024-04-13 14:00:00-06:00</td>\n",
       "      <td>23.788611</td>\n",
       "      <td>CPU_0</td>\n",
       "    </tr>\n",
       "    <tr>\n",
       "      <th>...</th>\n",
       "      <td>...</td>\n",
       "      <td>...</td>\n",
       "      <td>...</td>\n",
       "    </tr>\n",
       "    <tr>\n",
       "      <th>637</th>\n",
       "      <td>2024-05-13 06:00:00-06:00</td>\n",
       "      <td>11.211391</td>\n",
       "      <td>avg</td>\n",
       "    </tr>\n",
       "    <tr>\n",
       "      <th>638</th>\n",
       "      <td>2024-05-13 07:00:00-06:00</td>\n",
       "      <td>13.077428</td>\n",
       "      <td>avg</td>\n",
       "    </tr>\n",
       "    <tr>\n",
       "      <th>639</th>\n",
       "      <td>2024-05-13 08:00:00-06:00</td>\n",
       "      <td>14.495938</td>\n",
       "      <td>avg</td>\n",
       "    </tr>\n",
       "    <tr>\n",
       "      <th>640</th>\n",
       "      <td>2024-05-13 09:00:00-06:00</td>\n",
       "      <td>14.694981</td>\n",
       "      <td>avg</td>\n",
       "    </tr>\n",
       "    <tr>\n",
       "      <th>641</th>\n",
       "      <td>2024-05-13 09:08:12.600626756-06:00</td>\n",
       "      <td>14.562644</td>\n",
       "      <td>avg</td>\n",
       "    </tr>\n",
       "  </tbody>\n",
       "</table>\n",
       "<p>4494 rows × 3 columns</p>\n",
       "</div>"
      ],
      "text/plain": [
       "                                   time      value    cpu\n",
       "0             2024-04-13 10:00:00-06:00  25.200643  CPU_0\n",
       "1             2024-04-13 11:00:00-06:00  23.622778  CPU_0\n",
       "2             2024-04-13 12:00:00-06:00  22.578056  CPU_0\n",
       "3             2024-04-13 13:00:00-06:00  23.131111  CPU_0\n",
       "4             2024-04-13 14:00:00-06:00  23.788611  CPU_0\n",
       "..                                  ...        ...    ...\n",
       "637           2024-05-13 06:00:00-06:00  11.211391    avg\n",
       "638           2024-05-13 07:00:00-06:00  13.077428    avg\n",
       "639           2024-05-13 08:00:00-06:00  14.495938    avg\n",
       "640           2024-05-13 09:00:00-06:00  14.694981    avg\n",
       "641 2024-05-13 09:08:12.600626756-06:00  14.562644    avg\n",
       "\n",
       "[4494 rows x 3 columns]"
      ]
     },
     "execution_count": 3,
     "metadata": {},
     "output_type": "execute_result"
    }
   ],
   "source": [
    "cpu = pd.read_csv(\"data/overhead_measurements/InfluxDB_CPU_20240413-20240513.csv\", header=3, \n",
    "                   usecols=[\"_time\", \"_value\", \"_field\"])\n",
    "\n",
    "cpu[\"_time\"] = pd.to_datetime(cpu[\"_time\"]).dt.tz_convert(\"US/Mountain\")\n",
    "cpu.rename(columns={\"_time\": \"time\", \"_value\": \"value\", \"_field\": \"cpu\"}, inplace=True)\n",
    "\n",
    "avg_cpu = cpu.groupby(\"time\")[\"value\"].mean()\n",
    "cpu = pd.concat([cpu, pd.DataFrame({\"time\": avg_cpu.index, \n",
    "                                    \"value\": avg_cpu.values, \"cpu\": \"avg\"})])\n",
    "cpu"
   ]
  },
  {
   "cell_type": "code",
   "execution_count": 4,
   "id": "42e8808b",
   "metadata": {},
   "outputs": [
    {
     "data": {
      "text/html": [
       "<div>\n",
       "<style scoped>\n",
       "    .dataframe tbody tr th:only-of-type {\n",
       "        vertical-align: middle;\n",
       "    }\n",
       "\n",
       "    .dataframe tbody tr th {\n",
       "        vertical-align: top;\n",
       "    }\n",
       "\n",
       "    .dataframe thead th {\n",
       "        text-align: right;\n",
       "    }\n",
       "</style>\n",
       "<table border=\"1\" class=\"dataframe\">\n",
       "  <thead>\n",
       "    <tr style=\"text-align: right;\">\n",
       "      <th></th>\n",
       "      <th>value</th>\n",
       "    </tr>\n",
       "  </thead>\n",
       "  <tbody>\n",
       "    <tr>\n",
       "      <th>count</th>\n",
       "      <td>168.000000</td>\n",
       "    </tr>\n",
       "    <tr>\n",
       "      <th>mean</th>\n",
       "      <td>17.403880</td>\n",
       "    </tr>\n",
       "    <tr>\n",
       "      <th>std</th>\n",
       "      <td>5.048806</td>\n",
       "    </tr>\n",
       "    <tr>\n",
       "      <th>min</th>\n",
       "      <td>7.132269</td>\n",
       "    </tr>\n",
       "    <tr>\n",
       "      <th>25%</th>\n",
       "      <td>13.693970</td>\n",
       "    </tr>\n",
       "    <tr>\n",
       "      <th>50%</th>\n",
       "      <td>17.330093</td>\n",
       "    </tr>\n",
       "    <tr>\n",
       "      <th>75%</th>\n",
       "      <td>21.595949</td>\n",
       "    </tr>\n",
       "    <tr>\n",
       "      <th>max</th>\n",
       "      <td>29.373889</td>\n",
       "    </tr>\n",
       "  </tbody>\n",
       "</table>\n",
       "</div>"
      ],
      "text/plain": [
       "            value\n",
       "count  168.000000\n",
       "mean    17.403880\n",
       "std      5.048806\n",
       "min      7.132269\n",
       "25%     13.693970\n",
       "50%     17.330093\n",
       "75%     21.595949\n",
       "max     29.373889"
      ]
     },
     "execution_count": 4,
     "metadata": {},
     "output_type": "execute_result"
    }
   ],
   "source": [
    "epping_cpu = cpu.query(\"cpu == 'avg' and time >= @epping_period[0] and time < @epping_period[1]\")\n",
    "epping_cpu.describe()"
   ]
  },
  {
   "cell_type": "code",
   "execution_count": 5,
   "id": "069949d7",
   "metadata": {},
   "outputs": [
    {
     "data": {
      "text/html": [
       "<div>\n",
       "<style scoped>\n",
       "    .dataframe tbody tr th:only-of-type {\n",
       "        vertical-align: middle;\n",
       "    }\n",
       "\n",
       "    .dataframe tbody tr th {\n",
       "        vertical-align: top;\n",
       "    }\n",
       "\n",
       "    .dataframe thead th {\n",
       "        text-align: right;\n",
       "    }\n",
       "</style>\n",
       "<table border=\"1\" class=\"dataframe\">\n",
       "  <thead>\n",
       "    <tr style=\"text-align: right;\">\n",
       "      <th></th>\n",
       "      <th>value</th>\n",
       "    </tr>\n",
       "  </thead>\n",
       "  <tbody>\n",
       "    <tr>\n",
       "      <th>count</th>\n",
       "      <td>168.000000</td>\n",
       "    </tr>\n",
       "    <tr>\n",
       "      <th>mean</th>\n",
       "      <td>16.094741</td>\n",
       "    </tr>\n",
       "    <tr>\n",
       "      <th>std</th>\n",
       "      <td>4.719204</td>\n",
       "    </tr>\n",
       "    <tr>\n",
       "      <th>min</th>\n",
       "      <td>6.147899</td>\n",
       "    </tr>\n",
       "    <tr>\n",
       "      <th>25%</th>\n",
       "      <td>12.348599</td>\n",
       "    </tr>\n",
       "    <tr>\n",
       "      <th>50%</th>\n",
       "      <td>15.518651</td>\n",
       "    </tr>\n",
       "    <tr>\n",
       "      <th>75%</th>\n",
       "      <td>20.056822</td>\n",
       "    </tr>\n",
       "    <tr>\n",
       "      <th>max</th>\n",
       "      <td>28.555392</td>\n",
       "    </tr>\n",
       "  </tbody>\n",
       "</table>\n",
       "</div>"
      ],
      "text/plain": [
       "            value\n",
       "count  168.000000\n",
       "mean    16.094741\n",
       "std      4.719204\n",
       "min      6.147899\n",
       "25%     12.348599\n",
       "50%     15.518651\n",
       "75%     20.056822\n",
       "max     28.555392"
      ]
     },
     "execution_count": 5,
     "metadata": {},
     "output_type": "execute_result"
    }
   ],
   "source": [
    "baseline_cpu = cpu.query(\"cpu == 'avg' and time >= @baseline_period[0] and time < @baseline_period[1]\")\n",
    "baseline_cpu.describe()"
   ]
  },
  {
   "cell_type": "code",
   "execution_count": null,
   "id": "08860ff9",
   "metadata": {},
   "outputs": [],
   "source": []
  },
  {
   "cell_type": "code",
   "execution_count": 6,
   "id": "630b27e6",
   "metadata": {},
   "outputs": [],
   "source": [
    "traffic = pd.read_csv(\"data/overhead_measurements/jackrabbit-shaper-per_day-20240421-20240513.csv\")\n",
    "traffic.rename(columns={\"tick\": \"time\"}, inplace=True)\n",
    "traffic[\"time\"] = pd.to_datetime(traffic[\"time\"]).dt.tz_convert(\"US/Mountain\")\n",
    "traffic[\"tot_kpps\"] = (traffic[\"packets_down_avg\"] + traffic[\"packets_up_avg\"]) / 1e3"
   ]
  },
  {
   "cell_type": "code",
   "execution_count": 7,
   "id": "2c16d09f",
   "metadata": {},
   "outputs": [
    {
     "data": {
      "text/html": [
       "<div>\n",
       "<style scoped>\n",
       "    .dataframe tbody tr th:only-of-type {\n",
       "        vertical-align: middle;\n",
       "    }\n",
       "\n",
       "    .dataframe tbody tr th {\n",
       "        vertical-align: top;\n",
       "    }\n",
       "\n",
       "    .dataframe thead th {\n",
       "        text-align: right;\n",
       "    }\n",
       "</style>\n",
       "<table border=\"1\" class=\"dataframe\">\n",
       "  <thead>\n",
       "    <tr style=\"text-align: right;\">\n",
       "      <th></th>\n",
       "      <th>org_key</th>\n",
       "      <th>shaper_key</th>\n",
       "      <th>packets_down_min</th>\n",
       "      <th>packets_down_max</th>\n",
       "      <th>packets_down_avg</th>\n",
       "      <th>packets_up_min</th>\n",
       "      <th>packets_up_max</th>\n",
       "      <th>packets_up_avg</th>\n",
       "      <th>bits_down_min</th>\n",
       "      <th>bits_down_max</th>\n",
       "      <th>bits_down_avg</th>\n",
       "      <th>bits_up_min</th>\n",
       "      <th>bits_up_max</th>\n",
       "      <th>bits_up_avg</th>\n",
       "      <th>tot_kpps</th>\n",
       "    </tr>\n",
       "  </thead>\n",
       "  <tbody>\n",
       "    <tr>\n",
       "      <th>count</th>\n",
       "      <td>210.0</td>\n",
       "      <td>210.0</td>\n",
       "      <td>210.000000</td>\n",
       "      <td>210.000000</td>\n",
       "      <td>210.000000</td>\n",
       "      <td>210.000000</td>\n",
       "      <td>210.000000</td>\n",
       "      <td>210.000000</td>\n",
       "      <td>2.100000e+02</td>\n",
       "      <td>2.100000e+02</td>\n",
       "      <td>2.100000e+02</td>\n",
       "      <td>2.100000e+02</td>\n",
       "      <td>2.100000e+02</td>\n",
       "      <td>2.100000e+02</td>\n",
       "      <td>210.000000</td>\n",
       "    </tr>\n",
       "    <tr>\n",
       "      <th>mean</th>\n",
       "      <td>2.0</td>\n",
       "      <td>2.0</td>\n",
       "      <td>54730.647619</td>\n",
       "      <td>139058.914286</td>\n",
       "      <td>90117.878472</td>\n",
       "      <td>29047.395238</td>\n",
       "      <td>71186.771429</td>\n",
       "      <td>45593.212202</td>\n",
       "      <td>5.312226e+08</td>\n",
       "      <td>1.491983e+09</td>\n",
       "      <td>9.329416e+08</td>\n",
       "      <td>6.986702e+07</td>\n",
       "      <td>2.111238e+08</td>\n",
       "      <td>1.147827e+08</td>\n",
       "      <td>135.711091</td>\n",
       "    </tr>\n",
       "    <tr>\n",
       "      <th>std</th>\n",
       "      <td>0.0</td>\n",
       "      <td>0.0</td>\n",
       "      <td>28948.952879</td>\n",
       "      <td>45347.782414</td>\n",
       "      <td>38146.766892</td>\n",
       "      <td>13708.324886</td>\n",
       "      <td>25764.810552</td>\n",
       "      <td>19421.153457</td>\n",
       "      <td>3.126289e+08</td>\n",
       "      <td>5.029496e+08</td>\n",
       "      <td>4.201006e+08</td>\n",
       "      <td>2.650688e+07</td>\n",
       "      <td>4.833833e+07</td>\n",
       "      <td>3.288895e+07</td>\n",
       "      <td>57.472830</td>\n",
       "    </tr>\n",
       "    <tr>\n",
       "      <th>min</th>\n",
       "      <td>2.0</td>\n",
       "      <td>2.0</td>\n",
       "      <td>13300.000000</td>\n",
       "      <td>54920.000000</td>\n",
       "      <td>30514.458333</td>\n",
       "      <td>9437.000000</td>\n",
       "      <td>29286.000000</td>\n",
       "      <td>16552.833333</td>\n",
       "      <td>1.046687e+08</td>\n",
       "      <td>5.653946e+08</td>\n",
       "      <td>2.806116e+08</td>\n",
       "      <td>2.304502e+07</td>\n",
       "      <td>1.007347e+08</td>\n",
       "      <td>4.472824e+07</td>\n",
       "      <td>47.096063</td>\n",
       "    </tr>\n",
       "    <tr>\n",
       "      <th>25%</th>\n",
       "      <td>2.0</td>\n",
       "      <td>2.0</td>\n",
       "      <td>33158.750000</td>\n",
       "      <td>105906.500000</td>\n",
       "      <td>62007.036458</td>\n",
       "      <td>17524.500000</td>\n",
       "      <td>50639.500000</td>\n",
       "      <td>30193.869792</td>\n",
       "      <td>2.884757e+08</td>\n",
       "      <td>1.119743e+09</td>\n",
       "      <td>6.349762e+08</td>\n",
       "      <td>4.900242e+07</td>\n",
       "      <td>1.785142e+08</td>\n",
       "      <td>9.424385e+07</td>\n",
       "      <td>92.474911</td>\n",
       "    </tr>\n",
       "    <tr>\n",
       "      <th>50%</th>\n",
       "      <td>2.0</td>\n",
       "      <td>2.0</td>\n",
       "      <td>45716.000000</td>\n",
       "      <td>127826.000000</td>\n",
       "      <td>78095.625000</td>\n",
       "      <td>25878.500000</td>\n",
       "      <td>65119.000000</td>\n",
       "      <td>40215.531250</td>\n",
       "      <td>4.254406e+08</td>\n",
       "      <td>1.362477e+09</td>\n",
       "      <td>7.870622e+08</td>\n",
       "      <td>6.729059e+07</td>\n",
       "      <td>2.143511e+08</td>\n",
       "      <td>1.146242e+08</td>\n",
       "      <td>118.012854</td>\n",
       "    </tr>\n",
       "    <tr>\n",
       "      <th>75%</th>\n",
       "      <td>2.0</td>\n",
       "      <td>2.0</td>\n",
       "      <td>77586.000000</td>\n",
       "      <td>177331.000000</td>\n",
       "      <td>123205.312500</td>\n",
       "      <td>39248.000000</td>\n",
       "      <td>90685.750000</td>\n",
       "      <td>62753.697917</td>\n",
       "      <td>7.798910e+08</td>\n",
       "      <td>1.902305e+09</td>\n",
       "      <td>1.291088e+09</td>\n",
       "      <td>9.395821e+07</td>\n",
       "      <td>2.358915e+08</td>\n",
       "      <td>1.436103e+08</td>\n",
       "      <td>185.819646</td>\n",
       "    </tr>\n",
       "    <tr>\n",
       "      <th>max</th>\n",
       "      <td>2.0</td>\n",
       "      <td>2.0</td>\n",
       "      <td>125712.000000</td>\n",
       "      <td>237543.000000</td>\n",
       "      <td>178752.562500</td>\n",
       "      <td>64647.000000</td>\n",
       "      <td>135245.000000</td>\n",
       "      <td>93082.875000</td>\n",
       "      <td>1.332699e+09</td>\n",
       "      <td>2.597699e+09</td>\n",
       "      <td>1.927845e+09</td>\n",
       "      <td>1.209518e+08</td>\n",
       "      <td>4.072834e+08</td>\n",
       "      <td>1.768291e+08</td>\n",
       "      <td>271.835438</td>\n",
       "    </tr>\n",
       "  </tbody>\n",
       "</table>\n",
       "</div>"
      ],
      "text/plain": [
       "       org_key  shaper_key  packets_down_min  packets_down_max  \\\n",
       "count    210.0       210.0        210.000000        210.000000   \n",
       "mean       2.0         2.0      54730.647619     139058.914286   \n",
       "std        0.0         0.0      28948.952879      45347.782414   \n",
       "min        2.0         2.0      13300.000000      54920.000000   \n",
       "25%        2.0         2.0      33158.750000     105906.500000   \n",
       "50%        2.0         2.0      45716.000000     127826.000000   \n",
       "75%        2.0         2.0      77586.000000     177331.000000   \n",
       "max        2.0         2.0     125712.000000     237543.000000   \n",
       "\n",
       "       packets_down_avg  packets_up_min  packets_up_max  packets_up_avg  \\\n",
       "count        210.000000      210.000000      210.000000      210.000000   \n",
       "mean       90117.878472    29047.395238    71186.771429    45593.212202   \n",
       "std        38146.766892    13708.324886    25764.810552    19421.153457   \n",
       "min        30514.458333     9437.000000    29286.000000    16552.833333   \n",
       "25%        62007.036458    17524.500000    50639.500000    30193.869792   \n",
       "50%        78095.625000    25878.500000    65119.000000    40215.531250   \n",
       "75%       123205.312500    39248.000000    90685.750000    62753.697917   \n",
       "max       178752.562500    64647.000000   135245.000000    93082.875000   \n",
       "\n",
       "       bits_down_min  bits_down_max  bits_down_avg   bits_up_min  \\\n",
       "count   2.100000e+02   2.100000e+02   2.100000e+02  2.100000e+02   \n",
       "mean    5.312226e+08   1.491983e+09   9.329416e+08  6.986702e+07   \n",
       "std     3.126289e+08   5.029496e+08   4.201006e+08  2.650688e+07   \n",
       "min     1.046687e+08   5.653946e+08   2.806116e+08  2.304502e+07   \n",
       "25%     2.884757e+08   1.119743e+09   6.349762e+08  4.900242e+07   \n",
       "50%     4.254406e+08   1.362477e+09   7.870622e+08  6.729059e+07   \n",
       "75%     7.798910e+08   1.902305e+09   1.291088e+09  9.395821e+07   \n",
       "max     1.332699e+09   2.597699e+09   1.927845e+09  1.209518e+08   \n",
       "\n",
       "        bits_up_max   bits_up_avg    tot_kpps  \n",
       "count  2.100000e+02  2.100000e+02  210.000000  \n",
       "mean   2.111238e+08  1.147827e+08  135.711091  \n",
       "std    4.833833e+07  3.288895e+07   57.472830  \n",
       "min    1.007347e+08  4.472824e+07   47.096063  \n",
       "25%    1.785142e+08  9.424385e+07   92.474911  \n",
       "50%    2.143511e+08  1.146242e+08  118.012854  \n",
       "75%    2.358915e+08  1.436103e+08  185.819646  \n",
       "max    4.072834e+08  1.768291e+08  271.835438  "
      ]
     },
     "execution_count": 7,
     "metadata": {},
     "output_type": "execute_result"
    }
   ],
   "source": [
    "epping_traffic = traffic.query(\"time >= @epping_period[0] and time < @epping_period[1]\")\n",
    "epping_traffic.describe()"
   ]
  },
  {
   "cell_type": "code",
   "execution_count": 8,
   "id": "7f4314b0",
   "metadata": {},
   "outputs": [
    {
     "data": {
      "text/html": [
       "<div>\n",
       "<style scoped>\n",
       "    .dataframe tbody tr th:only-of-type {\n",
       "        vertical-align: middle;\n",
       "    }\n",
       "\n",
       "    .dataframe tbody tr th {\n",
       "        vertical-align: top;\n",
       "    }\n",
       "\n",
       "    .dataframe thead th {\n",
       "        text-align: right;\n",
       "    }\n",
       "</style>\n",
       "<table border=\"1\" class=\"dataframe\">\n",
       "  <thead>\n",
       "    <tr style=\"text-align: right;\">\n",
       "      <th></th>\n",
       "      <th>org_key</th>\n",
       "      <th>shaper_key</th>\n",
       "      <th>packets_down_min</th>\n",
       "      <th>packets_down_max</th>\n",
       "      <th>packets_down_avg</th>\n",
       "      <th>packets_up_min</th>\n",
       "      <th>packets_up_max</th>\n",
       "      <th>packets_up_avg</th>\n",
       "      <th>bits_down_min</th>\n",
       "      <th>bits_down_max</th>\n",
       "      <th>bits_down_avg</th>\n",
       "      <th>bits_up_min</th>\n",
       "      <th>bits_up_max</th>\n",
       "      <th>bits_up_avg</th>\n",
       "      <th>tot_kpps</th>\n",
       "    </tr>\n",
       "  </thead>\n",
       "  <tbody>\n",
       "    <tr>\n",
       "      <th>count</th>\n",
       "      <td>210.0</td>\n",
       "      <td>210.0</td>\n",
       "      <td>210.000000</td>\n",
       "      <td>210.000000</td>\n",
       "      <td>210.000000</td>\n",
       "      <td>210.000000</td>\n",
       "      <td>210.000000</td>\n",
       "      <td>210.000000</td>\n",
       "      <td>2.100000e+02</td>\n",
       "      <td>2.100000e+02</td>\n",
       "      <td>2.100000e+02</td>\n",
       "      <td>2.100000e+02</td>\n",
       "      <td>2.100000e+02</td>\n",
       "      <td>2.100000e+02</td>\n",
       "      <td>210.000000</td>\n",
       "    </tr>\n",
       "    <tr>\n",
       "      <th>mean</th>\n",
       "      <td>2.0</td>\n",
       "      <td>2.0</td>\n",
       "      <td>49139.957143</td>\n",
       "      <td>134111.009524</td>\n",
       "      <td>83077.592460</td>\n",
       "      <td>26027.009524</td>\n",
       "      <td>69119.500000</td>\n",
       "      <td>41455.478770</td>\n",
       "      <td>4.733024e+08</td>\n",
       "      <td>1.441323e+09</td>\n",
       "      <td>8.565208e+08</td>\n",
       "      <td>6.816568e+07</td>\n",
       "      <td>2.298889e+08</td>\n",
       "      <td>1.151688e+08</td>\n",
       "      <td>124.533071</td>\n",
       "    </tr>\n",
       "    <tr>\n",
       "      <th>std</th>\n",
       "      <td>0.0</td>\n",
       "      <td>0.0</td>\n",
       "      <td>26064.521360</td>\n",
       "      <td>45280.485838</td>\n",
       "      <td>34504.725352</td>\n",
       "      <td>12126.343807</td>\n",
       "      <td>28949.383787</td>\n",
       "      <td>17169.777387</td>\n",
       "      <td>2.811712e+08</td>\n",
       "      <td>5.106374e+08</td>\n",
       "      <td>3.783004e+08</td>\n",
       "      <td>2.509810e+07</td>\n",
       "      <td>1.017878e+08</td>\n",
       "      <td>3.270888e+07</td>\n",
       "      <td>51.602586</td>\n",
       "    </tr>\n",
       "    <tr>\n",
       "      <th>min</th>\n",
       "      <td>2.0</td>\n",
       "      <td>2.0</td>\n",
       "      <td>12255.000000</td>\n",
       "      <td>61757.000000</td>\n",
       "      <td>31017.083333</td>\n",
       "      <td>7589.000000</td>\n",
       "      <td>27749.000000</td>\n",
       "      <td>14133.020833</td>\n",
       "      <td>8.894858e+07</td>\n",
       "      <td>6.204655e+08</td>\n",
       "      <td>2.920852e+08</td>\n",
       "      <td>1.741214e+07</td>\n",
       "      <td>9.034022e+07</td>\n",
       "      <td>4.076042e+07</td>\n",
       "      <td>45.766083</td>\n",
       "    </tr>\n",
       "    <tr>\n",
       "      <th>25%</th>\n",
       "      <td>2.0</td>\n",
       "      <td>2.0</td>\n",
       "      <td>29722.750000</td>\n",
       "      <td>99715.000000</td>\n",
       "      <td>57773.572917</td>\n",
       "      <td>16108.250000</td>\n",
       "      <td>48084.750000</td>\n",
       "      <td>28247.744792</td>\n",
       "      <td>2.647635e+08</td>\n",
       "      <td>1.059234e+09</td>\n",
       "      <td>5.651730e+08</td>\n",
       "      <td>4.741149e+07</td>\n",
       "      <td>1.840864e+08</td>\n",
       "      <td>9.121419e+07</td>\n",
       "      <td>86.126104</td>\n",
       "    </tr>\n",
       "    <tr>\n",
       "      <th>50%</th>\n",
       "      <td>2.0</td>\n",
       "      <td>2.0</td>\n",
       "      <td>42068.000000</td>\n",
       "      <td>126739.500000</td>\n",
       "      <td>73888.395833</td>\n",
       "      <td>23493.000000</td>\n",
       "      <td>62377.500000</td>\n",
       "      <td>38214.885417</td>\n",
       "      <td>3.976967e+08</td>\n",
       "      <td>1.355909e+09</td>\n",
       "      <td>7.533201e+08</td>\n",
       "      <td>6.808921e+07</td>\n",
       "      <td>2.159000e+08</td>\n",
       "      <td>1.191033e+08</td>\n",
       "      <td>111.378062</td>\n",
       "    </tr>\n",
       "    <tr>\n",
       "      <th>75%</th>\n",
       "      <td>2.0</td>\n",
       "      <td>2.0</td>\n",
       "      <td>70682.000000</td>\n",
       "      <td>169503.000000</td>\n",
       "      <td>113451.505208</td>\n",
       "      <td>35866.000000</td>\n",
       "      <td>87439.000000</td>\n",
       "      <td>55793.916667</td>\n",
       "      <td>6.978263e+08</td>\n",
       "      <td>1.839758e+09</td>\n",
       "      <td>1.192066e+09</td>\n",
       "      <td>8.983519e+07</td>\n",
       "      <td>2.484216e+08</td>\n",
       "      <td>1.419425e+08</td>\n",
       "      <td>168.924948</td>\n",
       "    </tr>\n",
       "    <tr>\n",
       "      <th>max</th>\n",
       "      <td>2.0</td>\n",
       "      <td>2.0</td>\n",
       "      <td>129720.000000</td>\n",
       "      <td>332330.000000</td>\n",
       "      <td>179537.333333</td>\n",
       "      <td>62920.000000</td>\n",
       "      <td>233483.000000</td>\n",
       "      <td>91569.458333</td>\n",
       "      <td>1.385056e+09</td>\n",
       "      <td>3.815253e+09</td>\n",
       "      <td>1.941556e+09</td>\n",
       "      <td>1.205365e+08</td>\n",
       "      <td>1.030773e+09</td>\n",
       "      <td>1.768593e+08</td>\n",
       "      <td>271.106792</td>\n",
       "    </tr>\n",
       "  </tbody>\n",
       "</table>\n",
       "</div>"
      ],
      "text/plain": [
       "       org_key  shaper_key  packets_down_min  packets_down_max  \\\n",
       "count    210.0       210.0        210.000000        210.000000   \n",
       "mean       2.0         2.0      49139.957143     134111.009524   \n",
       "std        0.0         0.0      26064.521360      45280.485838   \n",
       "min        2.0         2.0      12255.000000      61757.000000   \n",
       "25%        2.0         2.0      29722.750000      99715.000000   \n",
       "50%        2.0         2.0      42068.000000     126739.500000   \n",
       "75%        2.0         2.0      70682.000000     169503.000000   \n",
       "max        2.0         2.0     129720.000000     332330.000000   \n",
       "\n",
       "       packets_down_avg  packets_up_min  packets_up_max  packets_up_avg  \\\n",
       "count        210.000000      210.000000      210.000000      210.000000   \n",
       "mean       83077.592460    26027.009524    69119.500000    41455.478770   \n",
       "std        34504.725352    12126.343807    28949.383787    17169.777387   \n",
       "min        31017.083333     7589.000000    27749.000000    14133.020833   \n",
       "25%        57773.572917    16108.250000    48084.750000    28247.744792   \n",
       "50%        73888.395833    23493.000000    62377.500000    38214.885417   \n",
       "75%       113451.505208    35866.000000    87439.000000    55793.916667   \n",
       "max       179537.333333    62920.000000   233483.000000    91569.458333   \n",
       "\n",
       "       bits_down_min  bits_down_max  bits_down_avg   bits_up_min  \\\n",
       "count   2.100000e+02   2.100000e+02   2.100000e+02  2.100000e+02   \n",
       "mean    4.733024e+08   1.441323e+09   8.565208e+08  6.816568e+07   \n",
       "std     2.811712e+08   5.106374e+08   3.783004e+08  2.509810e+07   \n",
       "min     8.894858e+07   6.204655e+08   2.920852e+08  1.741214e+07   \n",
       "25%     2.647635e+08   1.059234e+09   5.651730e+08  4.741149e+07   \n",
       "50%     3.976967e+08   1.355909e+09   7.533201e+08  6.808921e+07   \n",
       "75%     6.978263e+08   1.839758e+09   1.192066e+09  8.983519e+07   \n",
       "max     1.385056e+09   3.815253e+09   1.941556e+09  1.205365e+08   \n",
       "\n",
       "        bits_up_max   bits_up_avg    tot_kpps  \n",
       "count  2.100000e+02  2.100000e+02  210.000000  \n",
       "mean   2.298889e+08  1.151688e+08  124.533071  \n",
       "std    1.017878e+08  3.270888e+07   51.602586  \n",
       "min    9.034022e+07  4.076042e+07   45.766083  \n",
       "25%    1.840864e+08  9.121419e+07   86.126104  \n",
       "50%    2.159000e+08  1.191033e+08  111.378062  \n",
       "75%    2.484216e+08  1.419425e+08  168.924948  \n",
       "max    1.030773e+09  1.768593e+08  271.106792  "
      ]
     },
     "execution_count": 8,
     "metadata": {},
     "output_type": "execute_result"
    }
   ],
   "source": [
    "baseline_traffic = traffic.query(\"time >= @baseline_period[0] and time < @baseline_period[1]\")\n",
    "baseline_traffic.describe()"
   ]
  },
  {
   "cell_type": "code",
   "execution_count": null,
   "id": "060c28fd",
   "metadata": {},
   "outputs": [],
   "source": []
  },
  {
   "cell_type": "markdown",
   "id": "4d35fa26",
   "metadata": {},
   "source": [
    "### CPU and packet rate distributions"
   ]
  },
  {
   "cell_type": "code",
   "execution_count": 9,
   "id": "2289cb39",
   "metadata": {},
   "outputs": [
    {
     "data": {
      "image/png": "[encoded data removed]",
      "text/plain": [
       "<Figure size 300x300 with 1 Axes>"
      ]
     },
     "metadata": {},
     "output_type": "display_data"
    }
   ],
   "source": [
    "fig, axes = plt.subplots(figsize=(3, 3))\n",
    "plot_func.plot_ecdf(*util.ecdf(baseline_cpu[\"value\"]), axes=axes, alpha=0.7,\n",
    "                    label=\"baseline\", marker=\"o\", markersize=5, markevery=0.2)\n",
    "plot_func.plot_ecdf(*util.ecdf(epping_cpu[\"value\"]), axes=axes, alpha=0.7,\n",
    "                    label=\"epping\", marker=\"*\", markersize=7, markevery=0.2)\n",
    "\n",
    "axes.set_ylim(0, 1)\n",
    "axes.set_ylabel(\"ECDF\")\n",
    "axes.set_xlabel(\"CPU util (%)\")\n",
    "axes.grid()\n",
    "axes.legend()\n",
    "fig.savefig(\"figures/overhead_cpu_util.pdf\", bbox_inches=\"tight\")"
   ]
  },
  {
   "cell_type": "code",
   "execution_count": 10,
   "id": "368322bb",
   "metadata": {},
   "outputs": [
    {
     "data": {
      "image/png": "[encoded data removed]",
      "text/plain": [
       "<Figure size 300x300 with 1 Axes>"
      ]
     },
     "metadata": {},
     "output_type": "display_data"
    }
   ],
   "source": [
    "fig, axes = plt.subplots(figsize=(3, 3))\n",
    "plot_func.plot_ecdf(*util.ecdf(baseline_traffic[\"tot_kpps\"]), axes=axes, alpha=0.7,\n",
    "                    label=\"baseline\", marker=\"o\", markersize=5, markevery=0.2)\n",
    "plot_func.plot_ecdf(*util.ecdf(epping_traffic[\"tot_kpps\"]), axes=axes, alpha=0.7,\n",
    "                    label=\"epping\", marker=\"*\", markersize=7, markevery=0.2)\n",
    "\n",
    "axes.set_ylim(0, 1)\n",
    "axes.set_ylabel(\"ECDF\")\n",
    "axes.set_xlabel(\"Packet rate (kpps)\")\n",
    "axes.grid()\n",
    "#axes.legend()\n",
    "fig.savefig(\"figures/overhead_kpps.pdf\", bbox_inches=\"tight\")"
   ]
  },
  {
   "cell_type": "markdown",
   "id": "49839506",
   "metadata": {},
   "source": [
    "### An attempt at trying to normalize CPU utilization against packet-load"
   ]
  },
  {
   "cell_type": "code",
   "execution_count": 11,
   "id": "d8181df4",
   "metadata": {},
   "outputs": [
    {
     "data": {
      "text/plain": [
       "0.1282421313754667"
      ]
     },
     "execution_count": 11,
     "metadata": {},
     "output_type": "execute_result"
    }
   ],
   "source": [
    "epping_cpu[\"value\"].mean() / epping_traffic[\"tot_kpps\"].mean()"
   ]
  },
  {
   "cell_type": "code",
   "execution_count": 12,
   "id": "a7e4b5f5",
   "metadata": {},
   "outputs": [
    {
     "data": {
      "text/plain": [
       "0.12924070088792589"
      ]
     },
     "execution_count": 12,
     "metadata": {},
     "output_type": "execute_result"
    }
   ],
   "source": [
    "baseline_cpu[\"value\"].mean() / baseline_traffic[\"tot_kpps\"].mean()"
   ]
  },
  {
   "cell_type": "code",
   "execution_count": 13,
   "id": "0234464d",
   "metadata": {},
   "outputs": [
    {
     "data": {
      "text/plain": [
       "count    168.000000\n",
       "mean       0.140636\n",
       "std        0.043331\n",
       "min        0.077462\n",
       "25%        0.106494\n",
       "50%        0.127403\n",
       "75%        0.164963\n",
       "max        0.282075\n",
       "dtype: float64"
      ]
     },
     "execution_count": 13,
     "metadata": {},
     "output_type": "execute_result"
    }
   ],
   "source": [
    "epping_cpu_norm = (epping_cpu.resample(\"1h\", on=\"time\")[\"value\"].mean() / \n",
    "                   epping_traffic.resample(\"1h\", on=\"time\")[\"tot_kpps\"].mean())\n",
    "epping_cpu_norm.describe()"
   ]
  },
  {
   "cell_type": "code",
   "execution_count": 14,
   "id": "3fabeca7",
   "metadata": {},
   "outputs": [
    {
     "data": {
      "text/plain": [
       "count    168.000000\n",
       "mean       0.141836\n",
       "std        0.044443\n",
       "min        0.083741\n",
       "25%        0.113252\n",
       "50%        0.125568\n",
       "75%        0.164141\n",
       "max        0.299439\n",
       "dtype: float64"
      ]
     },
     "execution_count": 14,
     "metadata": {},
     "output_type": "execute_result"
    }
   ],
   "source": [
    "baseline_cpu_norm = (baseline_cpu.resample(\"1h\", on=\"time\")[\"value\"].mean() / \n",
    "                     baseline_traffic.resample(\"1h\", on=\"time\")[\"tot_kpps\"].mean())\n",
    "baseline_cpu_norm.describe()"
   ]
  },
  {
   "cell_type": "code",
   "execution_count": 15,
   "id": "6fe41b19",
   "metadata": {},
   "outputs": [
    {
     "data": {
      "image/png": "[encoded data removed]",
      "text/plain": [
       "<Figure size 300x300 with 1 Axes>"
      ]
     },
     "metadata": {},
     "output_type": "display_data"
    }
   ],
   "source": [
    "fig, axes = plt.subplots(figsize=(3, 3))\n",
    "plot_func.plot_ecdf(*util.ecdf(baseline_cpu_norm), axes=axes, alpha=0.7,\n",
    "                    label=\"baseline\", marker=\"o\", markersize=5, markevery=0.2)\n",
    "plot_func.plot_ecdf(*util.ecdf(epping_cpu_norm), axes=axes, alpha=0.7,\n",
    "                    label=\"epping\", marker=\"*\", markersize=7, markevery=0.2)\n",
    "\n",
    "axes.set_ylim(0, 1)\n",
    "axes.set_ylabel(\"ECDF\")\n",
    "axes.set_xlabel(\"CPU normalized with packet rate\")\n",
    "axes.grid()\n",
    "#axes.legend()\n",
    "fig.savefig(\"figures/overhead_cpu_norm.pdf\", bbox_inches=\"tight\")"
   ]
  },
  {
   "cell_type": "code",
   "execution_count": null,
   "id": "aa313667",
   "metadata": {},
   "outputs": [],
   "source": []
  },
  {
   "cell_type": "markdown",
   "id": "764eb9b8",
   "metadata": {},
   "source": [
    "### eBPF program runtime"
   ]
  },
  {
   "cell_type": "code",
   "execution_count": 16,
   "id": "8e3d9ae9",
   "metadata": {},
   "outputs": [],
   "source": [
    "def parse_bpf_proglist_output(bpf_str, verbose=False):\n",
    "    progs = list()\n",
    "    \n",
    "    for line in bpf_str.splitlines():\n",
    "\n",
    "        words = line.split()\n",
    "        if len(words) < 6:\n",
    "            continue\n",
    "        if not re.match(\"^\\d+:\", line):\n",
    "            continue\n",
    "\n",
    "        bpf_id = int(words[0].rstrip(\":\"))\n",
    "\n",
    "        name = None\n",
    "        runtime = 0\n",
    "        count = 0\n",
    "        for i, word in enumerate(words):\n",
    "            if word == \"name\":\n",
    "                name = words[i + 1]\n",
    "            if word == \"run_time_ns\":\n",
    "                runtime = int(words[i + 1])\n",
    "            if word == \"run_cnt\":\n",
    "                count = int(words[i + 1])\n",
    "\n",
    "        if (runtime > 0 and count > 0):\n",
    "            progs.append({\"id\": bpf_id, \"name\": name, \n",
    "                          \"count\": count, \"cum_time_ns\": runtime,\n",
    "                          \"avg_time_ns\": runtime / count})\n",
    "        \n",
    "            if verbose:\n",
    "                print(\"id: {}, name: {}, count: {}, average runtime: {:.2f} ns\".format(\n",
    "                    bpf_id, name, count, runtime / count))\n",
    "    \n",
    "    return progs"
   ]
  },
  {
   "cell_type": "code",
   "execution_count": 17,
   "id": "725a4f03",
   "metadata": {},
   "outputs": [
    {
     "name": "stdout",
     "output_type": "stream",
     "text": [
      "id: 328, name: xdp_prog, count: 10838840606, average runtime: 649.35 ns\n",
      "id: 330, name: tc_iphash_to_cpu, count: 5399454647, average runtime: 51.59 ns\n",
      "id: 331, name: bifrost, count: 10838840124, average runtime: 54.23 ns\n",
      "id: 332, name: throughput_reader, count: 7989687383, average runtime: 366.03 ns\n",
      "id: 333, name: flow_reader, count: 2405781608, average runtime: 144.11 ns\n",
      "id: 335, name: xdp_prog, count: 5399454800, average runtime: 735.32 ns\n",
      "id: 336, name: tc_iphash_to_cpu, count: 10838840160, average runtime: 48.64 ns\n",
      "id: 337, name: bifrost, count: 5399454617, average runtime: 68.91 ns\n",
      "id: 368, name: pping_tc_egress, count: 5399454652, average runtime: 324.93 ns\n",
      "id: 370, name: pping_tc_ingress, count: 10838840131, average runtime: 268.84 ns\n",
      "id: 371, name: tsmap_cleanup, count: 248759894, average runtime: 408.37 ns\n",
      "id: 372, name: flowmap_cleanup, count: 1884270509, average runtime: 198.97 ns\n"
     ]
    }
   ],
   "source": [
    "with open(\"data/overhead_measurements/proglistoutput_after_enabling_bpf_stats_24hr.txt\") as infile:\n",
    "    bpf_progs = parse_bpf_proglist_output(infile.read(), verbose=True)"
   ]
  },
  {
   "cell_type": "code",
   "execution_count": 18,
   "id": "3c309a7c",
   "metadata": {},
   "outputs": [
    {
     "data": {
      "text/plain": [
       "{'pping_tc_egress': {'id': 368,\n",
       "  'name': 'pping_tc_egress',\n",
       "  'count': 5399454652,\n",
       "  'cum_time_ns': 1754452628955,\n",
       "  'avg_time_ns': 324.931449939141},\n",
       " 'pping_tc_ingress': {'id': 370,\n",
       "  'name': 'pping_tc_ingress',\n",
       "  'count': 10838840131,\n",
       "  'cum_time_ns': 2913926833291,\n",
       "  'avg_time_ns': 268.84120423152314},\n",
       " 'tsmap_cleanup': {'id': 371,\n",
       "  'name': 'tsmap_cleanup',\n",
       "  'count': 248759894,\n",
       "  'cum_time_ns': 101586582029,\n",
       "  'avg_time_ns': 408.3720265172649},\n",
       " 'flowmap_cleanup': {'id': 372,\n",
       "  'name': 'flowmap_cleanup',\n",
       "  'count': 1884270509,\n",
       "  'cum_time_ns': 374916527296,\n",
       "  'avg_time_ns': 198.97171107081206}}"
      ]
     },
     "execution_count": 18,
     "metadata": {},
     "output_type": "execute_result"
    }
   ],
   "source": [
    "sel_progs = [\"pping_tc_ingress\", \"pping_tc_egress\", \"tsmap_cleanup\", \"flowmap_cleanup\"]\n",
    "pping_progs = {prog[\"name\"]: prog for prog in bpf_progs if prog[\"name\"] in sel_progs}\n",
    "pping_progs"
   ]
  },
  {
   "cell_type": "code",
   "execution_count": 19,
   "id": "95592bac",
   "metadata": {},
   "outputs": [
    {
     "name": "stdout",
     "output_type": "stream",
     "text": [
      "Average runtime for each pping prog per invocation\n",
      "  pping_tc_egress: 324.93 ns (5399.45M invocations)\n",
      "  pping_tc_ingress: 268.84 ns (10838.84M invocations)\n",
      "  tsmap_cleanup: 408.37 ns (248.76M invocations)\n",
      "  flowmap_cleanup: 198.97 ns (1884.27M invocations)\n"
     ]
    }
   ],
   "source": [
    "print(\"Average runtime for each pping prog per invocation\")\n",
    "for prog in pping_progs.values():\n",
    "    print(\"  {}: {:.2f} ns ({:.2f}M invocations)\".format(\n",
    "        prog[\"name\"], prog[\"avg_time_ns\"], prog[\"count\"] / 1e6))"
   ]
  },
  {
   "cell_type": "code",
   "execution_count": 20,
   "id": "ffdcff12",
   "metadata": {},
   "outputs": [
    {
     "name": "stdout",
     "output_type": "stream",
     "text": [
      "Fraction of overall time used by the different eBPF programs:\n",
      "  pping_tc_egress: 34.101% (1754.5s / 5144.9s)\n",
      "  pping_tc_ingress: 56.637% (2913.9s / 5144.9s)\n",
      "  tsmap_cleanup: 1.975% (101.6s / 5144.9s)\n",
      "  flowmap_cleanup: 7.287% (374.9s / 5144.9s)\n"
     ]
    }
   ],
   "source": [
    "tot_time = sum([prog[\"cum_time_ns\"] for prog in pping_progs.values()])\n",
    "\n",
    "print(\"Fraction of overall time used by the different eBPF programs:\")\n",
    "for prog_name, prog in pping_progs.items():\n",
    "    print(\"  {}: {:.3%} ({:.1f}s / {:.1f}s)\".format(\n",
    "        prog_name, prog[\"cum_time_ns\"] / tot_time, prog[\"cum_time_ns\"] / 1e9, tot_time / 1e9))"
   ]
  },
  {
   "cell_type": "code",
   "execution_count": 21,
   "id": "52667e26",
   "metadata": {},
   "outputs": [],
   "source": [
    "pping_rx = pping_progs[\"pping_tc_ingress\"]\n",
    "pping_tx = pping_progs[\"pping_tc_egress\"]"
   ]
  },
  {
   "cell_type": "code",
   "execution_count": 22,
   "id": "66e2ba35",
   "metadata": {},
   "outputs": [
    {
     "name": "stdout",
     "output_type": "stream",
     "text": [
      "Ingress ran 2.01 as often as egress\n",
      "Ingress had 17.26% lower per-packet overhead than egress (268.84ns vs 324.93ns)\n"
     ]
    }
   ],
   "source": [
    "print(\"Ingress ran {:.2f} as often as egress\".format(pping_rx[\"count\"] / pping_tx[\"count\"]))\n",
    "print(\"Ingress had {:.2%} lower per-packet overhead than egress ({:.2f}ns vs {:.2f}ns)\".format(\n",
    "    1 - pping_rx[\"avg_time_ns\"] / pping_tx[\"avg_time_ns\"], pping_rx[\"avg_time_ns\"], pping_tx[\"avg_time_ns\"]))"
   ]
  },
  {
   "cell_type": "code",
   "execution_count": 23,
   "id": "cd989ab7",
   "metadata": {},
   "outputs": [
    {
     "name": "stdout",
     "output_type": "stream",
     "text": [
      "Weighted mean of per-packet overhead 287.492 ns\n"
     ]
    }
   ],
   "source": [
    "packet_process_avg = (pping_rx[\"cum_time_ns\"] + pping_tx[\"cum_time_ns\"]) / (pping_rx[\"count\"] + pping_tx[\"count\"])\n",
    "\n",
    "print(\"Weighted mean of per-packet overhead {:.3f} ns\".format(packet_process_avg))"
   ]
  },
  {
   "cell_type": "code",
   "execution_count": 24,
   "id": "b5207038",
   "metadata": {},
   "outputs": [
    {
     "name": "stdout",
     "output_type": "stream",
     "text": [
      "Packet process overhead at avg packet rate: 3.902% (0.650% across 6 cores)\n"
     ]
    }
   ],
   "source": [
    "single_cpu_util = (packet_process_avg * epping_traffic[\"tot_kpps\"].mean()) * 1e3 / 1e9\n",
    "print(\"Packet process overhead at avg packet rate: {:.3%} ({:.3%} across 6 cores)\".format(\n",
    "    single_cpu_util, single_cpu_util/6))"
   ]
  },
  {
   "cell_type": "code",
   "execution_count": null,
   "id": "009167b7",
   "metadata": {},
   "outputs": [],
   "source": []
  },
  {
   "cell_type": "code",
   "execution_count": null,
   "id": "59e1f196",
   "metadata": {},
   "outputs": [],
   "source": []
  },
  {
   "cell_type": "code",
   "execution_count": null,
   "id": "b9ce6606",
   "metadata": {},
   "outputs": [],
   "source": []
  },
  {
   "cell_type": "code",
   "execution_count": null,
   "id": "e5ede5d9",
   "metadata": {},
   "outputs": [],
   "source": []
  },
  {
   "cell_type": "code",
   "execution_count": null,
   "id": "219b6fd6",
   "metadata": {},
   "outputs": [],
   "source": []
  },
  {
   "cell_type": "code",
   "execution_count": null,
   "id": "243f72da",
   "metadata": {},
   "outputs": [],
   "source": []
  }
 ],
 "metadata": {
  "kernelspec": {
   "display_name": "Python [conda env:root] *",
   "language": "python",
   "name": "conda-root-py"
  },
  "language_info": {
   "codemirror_mode": {
    "name": "ipython",
    "version": 3
   },
   "file_extension": ".py",
   "mimetype": "text/x-python",
   "name": "python",
   "nbconvert_exporter": "python",
   "pygments_lexer": "ipython3",
   "version": "3.7.9"
  }
 },
 "nbformat": 4,
 "nbformat_minor": 5
}
